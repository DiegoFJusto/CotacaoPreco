{
  "nbformat": 4,
  "nbformat_minor": 0,
  "metadata": {
    "colab": {
      "name": "CotacaoPreco.ipynb",
      "provenance": [],
      "authorship_tag": "ABX9TyN3CH20sKgOidBRmjbY0aRM",
      "include_colab_link": true
    },
    "kernelspec": {
      "name": "python3",
      "display_name": "Python 3"
    }
  },
  "cells": [
    {
      "cell_type": "markdown",
      "metadata": {
        "id": "view-in-github",
        "colab_type": "text"
      },
      "source": [
        "<a href=\"https://colab.research.google.com/github/DiegoFJusto/CotacaoPreco/blob/main/CotacaoPreco.ipynb\" target=\"_parent\"><img src=\"https://colab.research.google.com/assets/colab-badge.svg\" alt=\"Open In Colab\"/></a>"
      ]
    },
    {
      "cell_type": "markdown",
      "metadata": {
        "id": "0K-MsA8nKfv9"
      },
      "source": [
        "Usei = !pip install yfinance (enter) << para instalar "
      ]
    },
    {
      "cell_type": "code",
      "metadata": {
        "id": "yEQUlNGGHVMs"
      },
      "source": [
        "import pandas as pd\r\n",
        "import yfinance as yf\r\n",
        "from datetime import date"
      ],
      "execution_count": 7,
      "outputs": []
    },
    {
      "cell_type": "markdown",
      "metadata": {
        "id": "Y13hbK6kJs_a"
      },
      "source": [
        "Exemplos de ativos **AMZN** (amazon) : consulta na Yahoo Finances"
      ]
    },
    {
      "cell_type": "code",
      "metadata": {
        "colab": {
          "base_uri": "https://localhost:8080/"
        },
        "id": "uAydXhQyHuHd",
        "outputId": "13d34f1d-94c8-43f7-e549-c25ddd2a3bae"
      },
      "source": [
        "ativos = str(input('Digite seu ativo :')).upper()"
      ],
      "execution_count": 14,
      "outputs": [
        {
          "output_type": "stream",
          "text": [
            "Digite seu ativo :AMZN\n"
          ],
          "name": "stdout"
        }
      ]
    },
    {
      "cell_type": "markdown",
      "metadata": {
        "id": "nqR-WWvrKJlC"
      },
      "source": [
        "A data inicial deixei fixa em **01.01.2020** e a data final sempre a **atual**"
      ]
    },
    {
      "cell_type": "code",
      "metadata": {
        "colab": {
          "base_uri": "https://localhost:8080/",
          "height": 459
        },
        "id": "biJhk4EtH4S0",
        "outputId": "2c52eb7c-66b3-403b-89ac-23e1ce43fb6f"
      },
      "source": [
        "yf.download(ativos, start= '2020-01-01', end = date.today())"
      ],
      "execution_count": 15,
      "outputs": [
        {
          "output_type": "stream",
          "text": [
            "\r[*********************100%***********************]  1 of 1 completed\n"
          ],
          "name": "stdout"
        },
        {
          "output_type": "execute_result",
          "data": {
            "text/html": [
              "<div>\n",
              "<style scoped>\n",
              "    .dataframe tbody tr th:only-of-type {\n",
              "        vertical-align: middle;\n",
              "    }\n",
              "\n",
              "    .dataframe tbody tr th {\n",
              "        vertical-align: top;\n",
              "    }\n",
              "\n",
              "    .dataframe thead th {\n",
              "        text-align: right;\n",
              "    }\n",
              "</style>\n",
              "<table border=\"1\" class=\"dataframe\">\n",
              "  <thead>\n",
              "    <tr style=\"text-align: right;\">\n",
              "      <th></th>\n",
              "      <th>Open</th>\n",
              "      <th>High</th>\n",
              "      <th>Low</th>\n",
              "      <th>Close</th>\n",
              "      <th>Adj Close</th>\n",
              "      <th>Volume</th>\n",
              "    </tr>\n",
              "    <tr>\n",
              "      <th>Date</th>\n",
              "      <th></th>\n",
              "      <th></th>\n",
              "      <th></th>\n",
              "      <th></th>\n",
              "      <th></th>\n",
              "      <th></th>\n",
              "    </tr>\n",
              "  </thead>\n",
              "  <tbody>\n",
              "    <tr>\n",
              "      <th>2020-01-02</th>\n",
              "      <td>1875.000000</td>\n",
              "      <td>1898.010010</td>\n",
              "      <td>1864.150024</td>\n",
              "      <td>1898.010010</td>\n",
              "      <td>1898.010010</td>\n",
              "      <td>4029000</td>\n",
              "    </tr>\n",
              "    <tr>\n",
              "      <th>2020-01-03</th>\n",
              "      <td>1864.500000</td>\n",
              "      <td>1886.199951</td>\n",
              "      <td>1864.500000</td>\n",
              "      <td>1874.969971</td>\n",
              "      <td>1874.969971</td>\n",
              "      <td>3764400</td>\n",
              "    </tr>\n",
              "    <tr>\n",
              "      <th>2020-01-06</th>\n",
              "      <td>1860.000000</td>\n",
              "      <td>1903.689941</td>\n",
              "      <td>1860.000000</td>\n",
              "      <td>1902.880005</td>\n",
              "      <td>1902.880005</td>\n",
              "      <td>4061800</td>\n",
              "    </tr>\n",
              "    <tr>\n",
              "      <th>2020-01-07</th>\n",
              "      <td>1904.500000</td>\n",
              "      <td>1913.890015</td>\n",
              "      <td>1892.040039</td>\n",
              "      <td>1906.859985</td>\n",
              "      <td>1906.859985</td>\n",
              "      <td>4044900</td>\n",
              "    </tr>\n",
              "    <tr>\n",
              "      <th>2020-01-08</th>\n",
              "      <td>1898.040039</td>\n",
              "      <td>1911.000000</td>\n",
              "      <td>1886.439941</td>\n",
              "      <td>1891.969971</td>\n",
              "      <td>1891.969971</td>\n",
              "      <td>3508000</td>\n",
              "    </tr>\n",
              "    <tr>\n",
              "      <th>...</th>\n",
              "      <td>...</td>\n",
              "      <td>...</td>\n",
              "      <td>...</td>\n",
              "      <td>...</td>\n",
              "      <td>...</td>\n",
              "      <td>...</td>\n",
              "    </tr>\n",
              "    <tr>\n",
              "      <th>2021-03-10</th>\n",
              "      <td>3098.449951</td>\n",
              "      <td>3116.459961</td>\n",
              "      <td>3030.050049</td>\n",
              "      <td>3057.639893</td>\n",
              "      <td>3057.639893</td>\n",
              "      <td>3008700</td>\n",
              "    </tr>\n",
              "    <tr>\n",
              "      <th>2021-03-11</th>\n",
              "      <td>3104.010010</td>\n",
              "      <td>3131.780029</td>\n",
              "      <td>3082.929932</td>\n",
              "      <td>3113.590088</td>\n",
              "      <td>3113.590088</td>\n",
              "      <td>2770800</td>\n",
              "    </tr>\n",
              "    <tr>\n",
              "      <th>2021-03-12</th>\n",
              "      <td>3075.000000</td>\n",
              "      <td>3098.979980</td>\n",
              "      <td>3045.500000</td>\n",
              "      <td>3089.489990</td>\n",
              "      <td>3089.489990</td>\n",
              "      <td>2418500</td>\n",
              "    </tr>\n",
              "    <tr>\n",
              "      <th>2021-03-15</th>\n",
              "      <td>3074.570068</td>\n",
              "      <td>3082.239990</td>\n",
              "      <td>3032.090088</td>\n",
              "      <td>3081.679932</td>\n",
              "      <td>3081.679932</td>\n",
              "      <td>2913600</td>\n",
              "    </tr>\n",
              "    <tr>\n",
              "      <th>2021-03-16</th>\n",
              "      <td>3104.969971</td>\n",
              "      <td>3128.909912</td>\n",
              "      <td>3075.860107</td>\n",
              "      <td>3091.860107</td>\n",
              "      <td>3091.860107</td>\n",
              "      <td>2510100</td>\n",
              "    </tr>\n",
              "  </tbody>\n",
              "</table>\n",
              "<p>303 rows × 6 columns</p>\n",
              "</div>"
            ],
            "text/plain": [
              "                   Open         High  ...    Adj Close   Volume\n",
              "Date                                  ...                      \n",
              "2020-01-02  1875.000000  1898.010010  ...  1898.010010  4029000\n",
              "2020-01-03  1864.500000  1886.199951  ...  1874.969971  3764400\n",
              "2020-01-06  1860.000000  1903.689941  ...  1902.880005  4061800\n",
              "2020-01-07  1904.500000  1913.890015  ...  1906.859985  4044900\n",
              "2020-01-08  1898.040039  1911.000000  ...  1891.969971  3508000\n",
              "...                 ...          ...  ...          ...      ...\n",
              "2021-03-10  3098.449951  3116.459961  ...  3057.639893  3008700\n",
              "2021-03-11  3104.010010  3131.780029  ...  3113.590088  2770800\n",
              "2021-03-12  3075.000000  3098.979980  ...  3089.489990  2418500\n",
              "2021-03-15  3074.570068  3082.239990  ...  3081.679932  2913600\n",
              "2021-03-16  3104.969971  3128.909912  ...  3091.860107  2510100\n",
              "\n",
              "[303 rows x 6 columns]"
            ]
          },
          "metadata": {
            "tags": []
          },
          "execution_count": 15
        }
      ]
    }
  ]
}